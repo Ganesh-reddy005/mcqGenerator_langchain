{
 "cells": [
  {
   "cell_type": "code",
   "execution_count": 1,
   "metadata": {},
   "outputs": [],
   "source": [
    "import os\n",
    "import pandas as pd\n",
    "import json\n",
    "import traceback"
   ]
  },
  {
   "cell_type": "code",
   "execution_count": 2,
   "metadata": {},
   "outputs": [],
   "source": [
    "from langchain_openai import ChatOpenAI"
   ]
  },
  {
   "cell_type": "code",
   "execution_count": 3,
   "metadata": {},
   "outputs": [
    {
     "data": {
      "text/plain": [
       "True"
      ]
     },
     "execution_count": 3,
     "metadata": {},
     "output_type": "execute_result"
    }
   ],
   "source": [
    "from dotenv import load_dotenv\n",
    "load_dotenv() #reteriving data from .env file"
   ]
  },
  {
   "cell_type": "code",
   "execution_count": 4,
   "metadata": {},
   "outputs": [],
   "source": [
    "KEY=os.getenv(\"MY_API_KEY\") #getting key from local environmet "
   ]
  },
  {
   "cell_type": "code",
   "execution_count": 72,
   "metadata": {},
   "outputs": [],
   "source": [
    "from langchain.prompts import PromptTemplate\n",
    "from langchain.chains import LLMChain\n",
    "from langchain.chains import SequentialChain\n",
    "from langchain_community.callbacks.manager import get_openai_callback\n",
    "from langchain_core.output_parsers import JsonOutputParser #for output format\n",
    "import PyPDF2"
   ]
  },
  {
   "cell_type": "code",
   "execution_count": 73,
   "metadata": {},
   "outputs": [],
   "source": [
    "llm=ChatOpenAI( model_name=\"google/gemma-2-9b-it:free\", base_url=\"https://openrouter.ai/api/v1\",openai_api_key=KEY,temperature=0.4)"
   ]
  },
  {
   "cell_type": "code",
   "execution_count": 7,
   "metadata": {},
   "outputs": [],
   "source": [
    "op=llm.invoke(\"hi\")"
   ]
  },
  {
   "cell_type": "code",
   "execution_count": 8,
   "metadata": {},
   "outputs": [
    {
     "name": "stdout",
     "output_type": "stream",
     "text": [
      "content='\\nHello! 👋  How can I help you today? 😊' additional_kwargs={'refusal': None} response_metadata={'token_usage': {'completion_tokens': 14, 'prompt_tokens': 10, 'total_tokens': 24, 'completion_tokens_details': None, 'prompt_tokens_details': None}, 'model_name': 'google/gemma-2-9b-it:free', 'system_fingerprint': None, 'id': 'gen-1754494948-QpflRA3RCToMXCedAIuM', 'service_tier': None, 'finish_reason': 'stop', 'logprobs': None} id='run--7e86d637-1a95-4ca7-a163-de8ae4016c26-0' usage_metadata={'input_tokens': 10, 'output_tokens': 14, 'total_tokens': 24, 'input_token_details': {}, 'output_token_details': {}} \n",
      "\n",
      "\n",
      "Hello! 👋  How can I help you today? 😊\n"
     ]
    }
   ],
   "source": [
    "print(op,\"\\n\")\n",
    "print(op.content)"
   ]
  },
  {
   "cell_type": "code",
   "execution_count": 9,
   "metadata": {},
   "outputs": [],
   "source": [
    "RESPONSE_JSON={\n",
    "    \"1\": {\n",
    "        \"no\": \"1\",\n",
    "        \"mcq\": \"multiple choice questions\",\n",
    "        \"options\":{\n",
    "            \"a\": \"choice here\",\n",
    "            \"b\": \"choice here\",\n",
    "            \"c\": \"choice here\",\n",
    "            \"d\": \"choice here\"\n",
    "        },\n",
    "        \n",
    "        \"correct\": \"correct answer\"\n",
    "    },\n",
    "    \n",
    "    \"2\": {\n",
    "        \"no\": \"2\",\n",
    "        \"mcq\": \"multiple choice questions\",\n",
    "        \"options\":{\n",
    "            \"a\": \"choice here\",\n",
    "            \"b\": \"choice here\",\n",
    "            \"c\": \"choice here\",\n",
    "            \"d\": \"choice here\"\n",
    "        },\n",
    "        \n",
    "        \"correct\": \"correct answer\"\n",
    "    },\n",
    "    \n",
    "    \"3\": {\n",
    "        \"no\": \"3\",\n",
    "        \"mcq\": \"multiple choice questions\",\n",
    "        \"options\":{\n",
    "            \"a\": \"choice here\",\n",
    "            \"b\": \"choice here\",\n",
    "            \"c\": \"choice here\",\n",
    "            \"d\": \"choice here\"\n",
    "        },\n",
    "        \n",
    "        \"correct\": \"correct answer\"\n",
    "    }\n",
    "    \n",
    "    \n",
    "}"
   ]
  },
  {
   "cell_type": "code",
   "execution_count": 10,
   "metadata": {},
   "outputs": [],
   "source": [
    "number=5\n",
    "subject=\"Machine Learning\"\n",
    "tone='simple'"
   ]
  },
  {
   "cell_type": "code",
   "execution_count": 49,
   "metadata": {},
   "outputs": [],
   "source": [
    "#creating template\n",
    "template=\"\"\"\n",
    "Text:{text}\n",
    "You are a expert in making Multiple Choice Questions. Given the above text its your Job to create {number} multiple choice questions\n",
    "for {subject} students with {tone} tone (difficulty level).\n",
    "Make sure the questions are not repeated and all the questions to be conforming the text as well.\n",
    "Make sure to format your questions in json format - RESPONSE_JSON as given below and use it as guide.\n",
    "Ensure to only make {number} questions.\n",
    "###RESPONSE_JSON\n",
    "{RESPONSE_JSON}.\n",
    "If you cannot make MCQ's with the given data of if there is no enough data given just ask them to provide more data.\n",
    "Make sure to format your response as raw JSON only.Do not include Markdown formatting like ```json or any explanation text.\n",
    "Just return the JSON object directly.\n",
    "\"\"\""
   ]
  },
  {
   "cell_type": "code",
   "execution_count": 50,
   "metadata": {},
   "outputs": [],
   "source": [
    "quiz_generator_prompt=PromptTemplate(\n",
    "    input_variables=['text','number','subject','tone','response_json'],\n",
    "    template=template\n",
    ")"
   ]
  },
  {
   "cell_type": "code",
   "execution_count": 51,
   "metadata": {},
   "outputs": [],
   "source": [
    "output_parser = JsonOutputParser()"
   ]
  },
  {
   "cell_type": "code",
   "execution_count": 52,
   "metadata": {},
   "outputs": [],
   "source": [
    "#now will start creating chains\n",
    "quiz_chain=LLMChain(llm=llm,prompt=quiz_generator_prompt,\n",
    "                    output_key='quiz',\n",
    "                    verbose=True,\n",
    "                    ) #as this template requires a json output we use output_parser"
   ]
  },
  {
   "cell_type": "code",
   "execution_count": 53,
   "metadata": {},
   "outputs": [],
   "source": [
    "#next prompt to ensure correctness and difficulty level\n",
    "template2=\"\"\"\n",
    "You are an expert english grammarian and writer. Given a Multiple Choice Quiz for {subject} students.\\\n",
    "You need to evaluate the complexity of teh question and give a complete analysis of the quiz if the students\n",
    "will be able to unserstand the questions and answer them. Only use at max 50 words for complexity analysis. \n",
    "if the quiz is not at par with the cognitive and analytical abilities of the students,\\\n",
    "update tech quiz questions which needs to be changed  and change the tone such that it perfectly fits the student abilities\n",
    "Quiz_MCQs:\n",
    "{quiz}\n",
    "\n",
    "Check from an expert English Writer of the above quiz:\n",
    "\"\"\""
   ]
  },
  {
   "cell_type": "code",
   "execution_count": 54,
   "metadata": {},
   "outputs": [],
   "source": [
    "quiz_evalution_prompt=PromptTemplate(\n",
    "    input_variables=['subject','quiz'],\n",
    "    template=template2\n",
    ")"
   ]
  },
  {
   "cell_type": "code",
   "execution_count": 55,
   "metadata": {},
   "outputs": [],
   "source": [
    "review_chain=LLMChain(llm=llm,prompt=quiz_evalution_prompt,output_key=\"review\",verbose=True)"
   ]
  },
  {
   "cell_type": "code",
   "execution_count": 56,
   "metadata": {},
   "outputs": [
    {
     "data": {
      "text/plain": [
       "LLMChain(verbose=True, prompt=PromptTemplate(input_variables=['RESPONSE_JSON', 'number', 'subject', 'text', 'tone'], input_types={}, partial_variables={}, template=\"\\nText:{text}\\nYou are a expert in making Multiple Choice Questions. Given the above text its your Job to create {number} multiple choice questions\\nfor {subject} students with {tone} tone (difficulty level).\\nMake sure the questions are not repeated and all the questions to be conforming the text as well.\\nMake sure to format your questions in json format - RESPONSE_JSON as given below and use it as guide.\\nEnsure to only make {number} questions.\\n###RESPONSE_JSON\\n{RESPONSE_JSON}.\\nIf you cannot make MCQ's with the given data of if there is no enough data given just ask them to provide more data.\\nMake sure to format your response as raw JSON only.Do not include Markdown formatting like ```json or any explanation text.\\nJust return the JSON object directly.\\n\"), llm=ChatOpenAI(client=<openai.resources.chat.completions.completions.Completions object at 0x126daf8f0>, async_client=<openai.resources.chat.completions.completions.AsyncCompletions object at 0x132d90ad0>, root_client=<openai.OpenAI object at 0x112b49cd0>, root_async_client=<openai.AsyncOpenAI object at 0x126d6b470>, model_name='google/gemma-2-9b-it:free', temperature=0.4, model_kwargs={}, openai_api_key=SecretStr('**********'), openai_api_base='https://openrouter.ai/api/v1'), output_key='quiz', output_parser=StrOutputParser(), llm_kwargs={})"
      ]
     },
     "execution_count": 56,
     "metadata": {},
     "output_type": "execute_result"
    }
   ],
   "source": [
    "quiz_chain"
   ]
  },
  {
   "cell_type": "code",
   "execution_count": 57,
   "metadata": {},
   "outputs": [],
   "source": [
    "#using SequentialChain to put all together\n",
    "generate_chain=SequentialChain(chains=[quiz_chain,review_chain],input_variables=['RESPONSE_JSON', 'number', 'subject', 'text', 'tone'],\n",
    "                               output_variables=[\"quiz\", \"review\"], verbose=True)\n"
   ]
  },
  {
   "cell_type": "code",
   "execution_count": 58,
   "metadata": {},
   "outputs": [],
   "source": [
    "file_path=r'/Users/ganeshreddybodireddy/Desktop/genai_mcq_project/data.txt'"
   ]
  },
  {
   "cell_type": "code",
   "execution_count": 59,
   "metadata": {},
   "outputs": [],
   "source": [
    "with open(file_path,'r') as file:\n",
    "    TEXT=file.read()"
   ]
  },
  {
   "cell_type": "code",
   "execution_count": 60,
   "metadata": {},
   "outputs": [
    {
     "name": "stdout",
     "output_type": "stream",
     "text": [
      "chine learning (ML) is a field of study in artificial intelligence concerned with the development and study of statistical algorithms that can learn from data and generalise to unseen data, and thus perform tasks without explicit instructions.[1] Within a subdiscipline in machine learning, advances in the field of deep learning have allowed neural networks, a class of statistical algorithms, to surpass many previous machine learning approaches in performance.[2]\n",
      "\n",
      "ML finds application in many fields, including natural language processing, computer vision, speech recognition, email filtering, agriculture, and medicine. The application of ML to business problems is known as predictive analytics.\n",
      "\n",
      "Statistics and mathematical optimisation (mathematical programming) methods comprise the foundations of machine learning. Data mining is a related field of study, focusing on exploratory data analysis (EDA) via unsupervised learning.[4][5]\n",
      "\n",
      "From a theoretical viewpoint, probably approximately correct learning provides a framework for describing machine learning.\n",
      "History\n",
      "See also: Timeline of machine learning\n",
      "The term machine learning was coined in 1959 by Arthur Samuel, an IBM employee and pioneer in the field of computer gaming and artificial intelligence.[6][7] The synonym self-teaching computers was also used in this time period.[8][9]\n",
      "The earliest machine learning program was introduced in the 1950s when Arthur Samuel invented a computer program that calculated the winning chance in checkers for each side, but the history of machine learning roots back to decades of human desire and effort to study human cognitive processes.[10] In 1949, Canadian psychologist Donald Hebb published the book The Organization of Behavior, in which he introduced a theoretical neural structure formed by certain interactions among nerve cells.[11] Hebb's model of neurons interacting with one another set a groundwork for how AIs and machine learning algorithms work under nodes, or artificial neurons used by computers to communicate data.[10] Other researchers who have studied human cognitive systems contributed to the modern machine learning technologies as well, including logician Walter Pitts and Warren McCulloch, who proposed the early mathematical models of neural networks to come up with algorithms that mirror human thought processes.[10]\n",
      "By the early 1960s, an experimental \"learning machine\" with punched tape memory, called Cybertron, had been developed by Raytheon Company to analyse sonar signals, electrocardiograms, and speech patterns using rudimentary reinforcement learning. It was repetitively \"trained\" by a human operator/teacher to recognise patterns and equipped with a \"goof\" button to cause it to reevaluate incorrect decisions.[12] A representative book on research into machine learning during the 1960s was Nilsson's book on Learning Machines, dealing mostly with machine learning for pattern classification.[13] Interest related to pattern recognition continued into the 1970s, as described by Duda and Hart in 1973.[14] In 1981 a report was given on using teaching strategies so that an artificial neural network learns to recognise 40 characters (26 letters, 10 digits, and 4 special symbols) from a computer terminal.[15]\n",
      "\n",
      "Tom M. Mitchell provided a widely quoted, more formal definition of the algorithms studied in the machine learning field: \"A computer program is said to learn from experience E with respect to some class of tasks T and performance measure P if its performance at tasks in T, as measured by P, improves with experience E.\"[16] This definition of the tasks in which machine learning is concerned offers a fundamentally operational definition rather than defining the field in cognitive terms. This follows Alan Turing's proposal in his paper \"Computing Machinery and Intelligence\", in which the question \"Can machines think?\" is replaced with the question \"Can machines do what we (as thinking entities) can do?\".[17]\n",
      "\n",
      "Modern-day machine learning has two objectives. One is to classify data based on models which have been developed; the other purpose is to make predictions for future outcomes based on these models. A hypothetical algorithm specific to classifying data may use computer vision of moles coupled with supervised learning in order to train it to classify the cancerous moles. A machine learning algorithm for stock trading may inform the trader of future potential predictions.[18]\n",
      "Artificial Intelligence:\n",
      "As a scientific endeavour, machine learning grew out of the quest for artificial intelligence (AI). In the early days of AI as an academic discipline, some researchers were interested in having machines learn from data. They attempted to approach the problem with various symbolic methods, as well as what were then termed \"neural networks\"; these were mostly perceptrons and other models that were later found to be reinventions of the generalised linear models of statistics.[20] Probabilistic reasoning was also employed, especially in automated medical diagnosis.[21]: 488 \n",
      "\n",
      "However, an increasing emphasis on the logical, knowledge-based approach caused a rift between AI and machine learning. Probabilistic systems were plagued by theoretical and practical problems of data acquisition and representation.[21]: 488  By 1980, expert systems had come to dominate AI, and statistics was out of favour.[22] Work on symbolic/knowledge-based learning did continue within AI, leading to inductive logic programming(ILP), but the more statistical line of research was now outside the field of AI proper, in pattern recognition and information retrieval.[21]: 708–710, 755  Neural networks research had been abandoned by AI and computer science around the same time. This line, too, was continued outside the AI/CS field, as \"connectionism\", by researchers from other disciplines including John Hopfield, David Rumelhart, and Geoffrey Hinton. Their main success came in the mid-1980s with the reinvention of backpropagation.[21]: 25 \n",
      "\n",
      "Machine learning (ML), reorganised and recognised as its own field, started to flourish in the 1990s. The field changed its goal from achieving artificial intelligence to tackling solvable problems of a practical nature. It shifted focus away from the symbolic approaches it had inherited from AI, and toward methods and models borrowed from statistics\n"
     ]
    }
   ],
   "source": [
    "print(TEXT)"
   ]
  },
  {
   "cell_type": "code",
   "execution_count": 61,
   "metadata": {},
   "outputs": [
    {
     "data": {
      "text/plain": [
       "'{\"1\": {\"no\": \"1\", \"mcq\": \"multiple choice questions\", \"options\": {\"a\": \"choice here\", \"b\": \"choice here\", \"c\": \"choice here\", \"d\": \"choice here\"}, \"correct\": \"correct answer\"}, \"2\": {\"no\": \"2\", \"mcq\": \"multiple choice questions\", \"options\": {\"a\": \"choice here\", \"b\": \"choice here\", \"c\": \"choice here\", \"d\": \"choice here\"}, \"correct\": \"correct answer\"}, \"3\": {\"no\": \"3\", \"mcq\": \"multiple choice questions\", \"options\": {\"a\": \"choice here\", \"b\": \"choice here\", \"c\": \"choice here\", \"d\": \"choice here\"}, \"correct\": \"correct answer\"}}'"
      ]
     },
     "execution_count": 61,
     "metadata": {},
     "output_type": "execute_result"
    }
   ],
   "source": [
    "json.dumps(RESPONSE_JSON)"
   ]
  },
  {
   "cell_type": "code",
   "execution_count": 62,
   "metadata": {},
   "outputs": [
    {
     "name": "stdout",
     "output_type": "stream",
     "text": [
      "\n",
      "\n",
      "\u001b[1m> Entering new SequentialChain chain...\u001b[0m\n",
      "\n",
      "\n",
      "\u001b[1m> Entering new LLMChain chain...\u001b[0m\n",
      "Prompt after formatting:\n",
      "\u001b[32;1m\u001b[1;3m\n",
      "Text:chine learning (ML) is a field of study in artificial intelligence concerned with the development and study of statistical algorithms that can learn from data and generalise to unseen data, and thus perform tasks without explicit instructions.[1] Within a subdiscipline in machine learning, advances in the field of deep learning have allowed neural networks, a class of statistical algorithms, to surpass many previous machine learning approaches in performance.[2]\n",
      "\n",
      "ML finds application in many fields, including natural language processing, computer vision, speech recognition, email filtering, agriculture, and medicine. The application of ML to business problems is known as predictive analytics.\n",
      "\n",
      "Statistics and mathematical optimisation (mathematical programming) methods comprise the foundations of machine learning. Data mining is a related field of study, focusing on exploratory data analysis (EDA) via unsupervised learning.[4][5]\n",
      "\n",
      "From a theoretical viewpoint, probably approximately correct learning provides a framework for describing machine learning.\n",
      "History\n",
      "See also: Timeline of machine learning\n",
      "The term machine learning was coined in 1959 by Arthur Samuel, an IBM employee and pioneer in the field of computer gaming and artificial intelligence.[6][7] The synonym self-teaching computers was also used in this time period.[8][9]\n",
      "The earliest machine learning program was introduced in the 1950s when Arthur Samuel invented a computer program that calculated the winning chance in checkers for each side, but the history of machine learning roots back to decades of human desire and effort to study human cognitive processes.[10] In 1949, Canadian psychologist Donald Hebb published the book The Organization of Behavior, in which he introduced a theoretical neural structure formed by certain interactions among nerve cells.[11] Hebb's model of neurons interacting with one another set a groundwork for how AIs and machine learning algorithms work under nodes, or artificial neurons used by computers to communicate data.[10] Other researchers who have studied human cognitive systems contributed to the modern machine learning technologies as well, including logician Walter Pitts and Warren McCulloch, who proposed the early mathematical models of neural networks to come up with algorithms that mirror human thought processes.[10]\n",
      "By the early 1960s, an experimental \"learning machine\" with punched tape memory, called Cybertron, had been developed by Raytheon Company to analyse sonar signals, electrocardiograms, and speech patterns using rudimentary reinforcement learning. It was repetitively \"trained\" by a human operator/teacher to recognise patterns and equipped with a \"goof\" button to cause it to reevaluate incorrect decisions.[12] A representative book on research into machine learning during the 1960s was Nilsson's book on Learning Machines, dealing mostly with machine learning for pattern classification.[13] Interest related to pattern recognition continued into the 1970s, as described by Duda and Hart in 1973.[14] In 1981 a report was given on using teaching strategies so that an artificial neural network learns to recognise 40 characters (26 letters, 10 digits, and 4 special symbols) from a computer terminal.[15]\n",
      "\n",
      "Tom M. Mitchell provided a widely quoted, more formal definition of the algorithms studied in the machine learning field: \"A computer program is said to learn from experience E with respect to some class of tasks T and performance measure P if its performance at tasks in T, as measured by P, improves with experience E.\"[16] This definition of the tasks in which machine learning is concerned offers a fundamentally operational definition rather than defining the field in cognitive terms. This follows Alan Turing's proposal in his paper \"Computing Machinery and Intelligence\", in which the question \"Can machines think?\" is replaced with the question \"Can machines do what we (as thinking entities) can do?\".[17]\n",
      "\n",
      "Modern-day machine learning has two objectives. One is to classify data based on models which have been developed; the other purpose is to make predictions for future outcomes based on these models. A hypothetical algorithm specific to classifying data may use computer vision of moles coupled with supervised learning in order to train it to classify the cancerous moles. A machine learning algorithm for stock trading may inform the trader of future potential predictions.[18]\n",
      "Artificial Intelligence:\n",
      "As a scientific endeavour, machine learning grew out of the quest for artificial intelligence (AI). In the early days of AI as an academic discipline, some researchers were interested in having machines learn from data. They attempted to approach the problem with various symbolic methods, as well as what were then termed \"neural networks\"; these were mostly perceptrons and other models that were later found to be reinventions of the generalised linear models of statistics.[20] Probabilistic reasoning was also employed, especially in automated medical diagnosis.[21]: 488 \n",
      "\n",
      "However, an increasing emphasis on the logical, knowledge-based approach caused a rift between AI and machine learning. Probabilistic systems were plagued by theoretical and practical problems of data acquisition and representation.[21]: 488  By 1980, expert systems had come to dominate AI, and statistics was out of favour.[22] Work on symbolic/knowledge-based learning did continue within AI, leading to inductive logic programming(ILP), but the more statistical line of research was now outside the field of AI proper, in pattern recognition and information retrieval.[21]: 708–710, 755  Neural networks research had been abandoned by AI and computer science around the same time. This line, too, was continued outside the AI/CS field, as \"connectionism\", by researchers from other disciplines including John Hopfield, David Rumelhart, and Geoffrey Hinton. Their main success came in the mid-1980s with the reinvention of backpropagation.[21]: 25 \n",
      "\n",
      "Machine learning (ML), reorganised and recognised as its own field, started to flourish in the 1990s. The field changed its goal from achieving artificial intelligence to tackling solvable problems of a practical nature. It shifted focus away from the symbolic approaches it had inherited from AI, and toward methods and models borrowed from statistics\n",
      "You are a expert in making Multiple Choice Questions. Given the above text its your Job to create 5 multiple choice questions\n",
      "for Machine Learning students with simple tone (difficulty level).\n",
      "Make sure the questions are not repeated and all the questions to be conforming the text as well.\n",
      "Make sure to format your questions in json format - RESPONSE_JSON as given below and use it as guide.\n",
      "Ensure to only make 5 questions.\n",
      "###RESPONSE_JSON\n",
      "{\"1\": {\"no\": \"1\", \"mcq\": \"multiple choice questions\", \"options\": {\"a\": \"choice here\", \"b\": \"choice here\", \"c\": \"choice here\", \"d\": \"choice here\"}, \"correct\": \"correct answer\"}, \"2\": {\"no\": \"2\", \"mcq\": \"multiple choice questions\", \"options\": {\"a\": \"choice here\", \"b\": \"choice here\", \"c\": \"choice here\", \"d\": \"choice here\"}, \"correct\": \"correct answer\"}, \"3\": {\"no\": \"3\", \"mcq\": \"multiple choice questions\", \"options\": {\"a\": \"choice here\", \"b\": \"choice here\", \"c\": \"choice here\", \"d\": \"choice here\"}, \"correct\": \"correct answer\"}}.\n",
      "If you cannot make MCQ's with the given data of if there is no enough data given just ask them to provide more data.\n",
      "Make sure to format your response as raw JSON only.Do not include Markdown formatting like ```json or any explanation text.\n",
      "Just return the JSON object directly.\n",
      "\u001b[0m\n",
      "\n",
      "\u001b[1m> Finished chain.\u001b[0m\n",
      "\n",
      "\n",
      "\u001b[1m> Entering new LLMChain chain...\u001b[0m\n",
      "Prompt after formatting:\n",
      "\u001b[32;1m\u001b[1;3m\n",
      "You are an expert english grammarian and writer. Given a Multiple Choice Quiz for Machine Learning students.You need to evaluate the complexity of teh question and give a complete analysis of the quiz if the students\n",
      "will be able to unserstand the questions and answer them. Only use at max 50 words for complexity analysis. \n",
      "if the quiz is not at par with the cognitive and analytical abilities of the students,update tech quiz questions which needs to be changed  and change the tone such that it perfectly fits the student abilities\n",
      "Quiz_MCQs:\n",
      "\n",
      "{\"1\": {\"no\": \"1\", \"mcq\": \"What was the primary focus of early machine learning research?\", \"options\": {\"a\": \"Achieving artificial general intelligence\", \"b\": \"Developing expert systems\", \"c\": \"Solving practical problems with data\", \"d\": \"Understanding human thought processes\"}, \"correct\": \"c\"}, \"2\": {\"no\": \"2\", \"mcq\": \"Which of these is NOT a key characteristic of machine learning?\", \"options\": {\"a\": \"Learning from experience\", \"b\": \"Improving performance over time\", \"c\": \"Explicitly programmed rules\", \"d\": \"Making predictions\"}, \"correct\": \"c\"}, \"3\": {\"no\": \"3\", \"mcq\": \"Who is credited with coining the term 'machine learning'?\", \"options\": {\"a\": \"Alan Turing\", \"b\": \"John McCarthy\", \"c\": \"Arthur Samuel\", \"d\": \"Warren McCulloch\"}, \"correct\": \"c\"}, \"4\": {\"no\": \"4\", \"mcq\": \"What was a major challenge faced by early probabilistic systems in AI?\", \"options\": {\"a\": \"Lack of computational power\", \"b\": \"Difficulty in acquiring and representing data\", \"c\": \"Limited understanding of neural networks\", \"d\": \"Absence of suitable algorithms\"}, \"correct\": \"b\"}, \"5\": {\"no\": \"5\", \"mcq\": \"When did machine learning become recognized as its own distinct field?\", \"options\": {\"a\": \"1950s\", \"b\": \"1960s\", \"c\": \"1980s\", \"d\": \"1990s\"}, \"correct\": \"d\"}} \n",
      "\n",
      "\n",
      "\n",
      "\n",
      "Check from an expert English Writer of the above quiz:\n",
      "\u001b[0m\n",
      "\n",
      "\u001b[1m> Finished chain.\u001b[0m\n",
      "\n",
      "\u001b[1m> Finished chain.\u001b[0m\n"
     ]
    }
   ],
   "source": [
    "#setting up token usage\n",
    "with get_openai_callback() as cb:\n",
    "    response=generate_chain(\n",
    "        {\n",
    "        'text':TEXT,\n",
    "        'number':number,\n",
    "        'subject':subject,\n",
    "        'tone':tone,\n",
    "        'RESPONSE_JSON':json.dumps(RESPONSE_JSON)\n",
    "        }\n",
    "    )\n",
    "    "
   ]
  },
  {
   "cell_type": "code",
   "execution_count": 63,
   "metadata": {},
   "outputs": [
    {
     "name": "stdout",
     "output_type": "stream",
     "text": [
      "Total Tokens:2731\n",
      "Prompt Tokens:2085\n",
      "Completion Tokens:646\n",
      "Total Cost:0.0\n"
     ]
    }
   ],
   "source": [
    "print(f\"Total Tokens:{cb.total_tokens}\")\n",
    "print(f\"Prompt Tokens:{cb.prompt_tokens}\")\n",
    "print(f\"Completion Tokens:{cb.completion_tokens}\")\n",
    "print(f\"Total Cost:{cb.total_cost}\")"
   ]
  },
  {
   "cell_type": "code",
   "execution_count": 64,
   "metadata": {},
   "outputs": [],
   "source": [
    "quiz_str=response.get('quiz')"
   ]
  },
  {
   "cell_type": "code",
   "execution_count": 67,
   "metadata": {},
   "outputs": [
    {
     "name": "stdout",
     "output_type": "stream",
     "text": [
      "\n",
      "{\"1\": {\"no\": \"1\", \"mcq\": \"What was the primary focus of early machine learning research?\", \"options\": {\"a\": \"Achieving artificial general intelligence\", \"b\": \"Developing expert systems\", \"c\": \"Solving practical problems with data\", \"d\": \"Understanding human thought processes\"}, \"correct\": \"c\"}, \"2\": {\"no\": \"2\", \"mcq\": \"Which of these is NOT a key characteristic of machine learning?\", \"options\": {\"a\": \"Learning from experience\", \"b\": \"Improving performance over time\", \"c\": \"Explicitly programmed rules\", \"d\": \"Making predictions\"}, \"correct\": \"c\"}, \"3\": {\"no\": \"3\", \"mcq\": \"Who is credited with coining the term 'machine learning'?\", \"options\": {\"a\": \"Alan Turing\", \"b\": \"John McCarthy\", \"c\": \"Arthur Samuel\", \"d\": \"Warren McCulloch\"}, \"correct\": \"c\"}, \"4\": {\"no\": \"4\", \"mcq\": \"What was a major challenge faced by early probabilistic systems in AI?\", \"options\": {\"a\": \"Lack of computational power\", \"b\": \"Difficulty in acquiring and representing data\", \"c\": \"Limited understanding of neural networks\", \"d\": \"Absence of suitable algorithms\"}, \"correct\": \"b\"}, \"5\": {\"no\": \"5\", \"mcq\": \"When did machine learning become recognized as its own distinct field?\", \"options\": {\"a\": \"1950s\", \"b\": \"1960s\", \"c\": \"1980s\", \"d\": \"1990s\"}, \"correct\": \"d\"}} \n",
      "\n",
      "\n",
      "\n"
     ]
    }
   ],
   "source": [
    "print((quiz_str))  # This shows hidden characters like \\n or spaces\n"
   ]
  },
  {
   "cell_type": "code",
   "execution_count": 68,
   "metadata": {},
   "outputs": [],
   "source": [
    "x=json.loads(quiz_str)"
   ]
  },
  {
   "cell_type": "code",
   "execution_count": 70,
   "metadata": {},
   "outputs": [
    {
     "data": {
      "text/plain": [
       "dict_values([{'no': '1', 'mcq': 'What was the primary focus of early machine learning research?', 'options': {'a': 'Achieving artificial general intelligence', 'b': 'Developing expert systems', 'c': 'Solving practical problems with data', 'd': 'Understanding human thought processes'}, 'correct': 'c'}, {'no': '2', 'mcq': 'Which of these is NOT a key characteristic of machine learning?', 'options': {'a': 'Learning from experience', 'b': 'Improving performance over time', 'c': 'Explicitly programmed rules', 'd': 'Making predictions'}, 'correct': 'c'}, {'no': '3', 'mcq': \"Who is credited with coining the term 'machine learning'?\", 'options': {'a': 'Alan Turing', 'b': 'John McCarthy', 'c': 'Arthur Samuel', 'd': 'Warren McCulloch'}, 'correct': 'c'}, {'no': '4', 'mcq': 'What was a major challenge faced by early probabilistic systems in AI?', 'options': {'a': 'Lack of computational power', 'b': 'Difficulty in acquiring and representing data', 'c': 'Limited understanding of neural networks', 'd': 'Absence of suitable algorithms'}, 'correct': 'b'}, {'no': '5', 'mcq': 'When did machine learning become recognized as its own distinct field?', 'options': {'a': '1950s', 'b': '1960s', 'c': '1980s', 'd': '1990s'}, 'correct': 'd'}])"
      ]
     },
     "execution_count": 70,
     "metadata": {},
     "output_type": "execute_result"
    }
   ],
   "source": [
    "x.values()"
   ]
  },
  {
   "cell_type": "code",
   "execution_count": 30,
   "metadata": {},
   "outputs": [
    {
     "ename": "AttributeError",
     "evalue": "'list' object has no attribute 'items'",
     "output_type": "error",
     "traceback": [
      "\u001b[31m---------------------------------------------------------------------------\u001b[39m",
      "\u001b[31mAttributeError\u001b[39m                            Traceback (most recent call last)",
      "\u001b[36mCell\u001b[39m\u001b[36m \u001b[39m\u001b[32mIn[30]\u001b[39m\u001b[32m, line 2\u001b[39m\n\u001b[32m      1\u001b[39m \u001b[38;5;66;03m#lets create a dataframe\u001b[39;00m\n\u001b[32m----> \u001b[39m\u001b[32m2\u001b[39m \u001b[38;5;28;01mfor\u001b[39;00m keys,value \u001b[38;5;129;01min\u001b[39;00m \u001b[43mquiz_str\u001b[49m\u001b[43m.\u001b[49m\u001b[43mitems\u001b[49m():\n\u001b[32m      3\u001b[39m     \u001b[38;5;28mprint\u001b[39m(value[\u001b[33m'\u001b[39m\u001b[33mmcq\u001b[39m\u001b[33m'\u001b[39m],\u001b[33m\"\u001b[39m\u001b[33m \u001b[39m\u001b[38;5;130;01m\\n\u001b[39;00m\u001b[33m\"\u001b[39m ,value[\u001b[33m'\u001b[39m\u001b[33moptions\u001b[39m\u001b[33m'\u001b[39m])\n\u001b[32m      4\u001b[39m     \u001b[38;5;28mprint\u001b[39m(value[\u001b[33m'\u001b[39m\u001b[33mcorrect\u001b[39m\u001b[33m'\u001b[39m])\n",
      "\u001b[31mAttributeError\u001b[39m: 'list' object has no attribute 'items'"
     ]
    }
   ],
   "source": [
    "#lets create a dataframe\n",
    "for keys,value in quiz_str.items():\n",
    "    print(value['mcq'],\" \\n\" ,value['options'])\n",
    "    print(value['correct'])"
   ]
  },
  {
   "cell_type": "code",
   "execution_count": 248,
   "metadata": {},
   "outputs": [],
   "source": [
    "quiz_table=[]\n",
    "for keys,value in quiz_str.items():\n",
    "    mcq=value['mcq']\n",
    "    options=\" | \".join(\n",
    "        [\n",
    "         f\"{option} : {option_value}\"\n",
    "        for option,option_value in value['options'].items()\n",
    "        ]\n",
    "    )\n",
    "    correct=value['correct']\n",
    "    quiz_table.append({\"MCQ\":mcq,\"Choices\":options,\"Correct\":correct})"
   ]
  },
  {
   "cell_type": "code",
   "execution_count": 252,
   "metadata": {},
   "outputs": [],
   "source": [
    "df=pd.DataFrame(quiz_table)"
   ]
  },
  {
   "cell_type": "code",
   "execution_count": 255,
   "metadata": {},
   "outputs": [
    {
     "data": {
      "text/html": [
       "<div>\n",
       "<style scoped>\n",
       "    .dataframe tbody tr th:only-of-type {\n",
       "        vertical-align: middle;\n",
       "    }\n",
       "\n",
       "    .dataframe tbody tr th {\n",
       "        vertical-align: top;\n",
       "    }\n",
       "\n",
       "    .dataframe thead th {\n",
       "        text-align: right;\n",
       "    }\n",
       "</style>\n",
       "<table border=\"1\" class=\"dataframe\">\n",
       "  <thead>\n",
       "    <tr style=\"text-align: right;\">\n",
       "      <th></th>\n",
       "      <th>MCQ</th>\n",
       "      <th>Choices</th>\n",
       "      <th>Correct</th>\n",
       "    </tr>\n",
       "  </thead>\n",
       "  <tbody>\n",
       "    <tr>\n",
       "      <th>0</th>\n",
       "      <td>What is the primary goal of machine learning?</td>\n",
       "      <td>a : To create machines that can think like hum...</td>\n",
       "      <td>b</td>\n",
       "    </tr>\n",
       "    <tr>\n",
       "      <th>1</th>\n",
       "      <td>Which of the following is NOT a field where ma...</td>\n",
       "      <td>a : Natural Language Processing | b : Computer...</td>\n",
       "      <td>c</td>\n",
       "    </tr>\n",
       "    <tr>\n",
       "      <th>2</th>\n",
       "      <td>Who is credited with coining the term 'machine...</td>\n",
       "      <td>a : Alan Turing | b : Donald Hebb | c : Arthur...</td>\n",
       "      <td>c</td>\n",
       "    </tr>\n",
       "    <tr>\n",
       "      <th>3</th>\n",
       "      <td>What type of learning is used by a program tha...</td>\n",
       "      <td>a : Supervised learning | b : Unsupervised lea...</td>\n",
       "      <td>c</td>\n",
       "    </tr>\n",
       "    <tr>\n",
       "      <th>4</th>\n",
       "      <td>What is the main difference between machine le...</td>\n",
       "      <td>a : Machine learning programs are faster than ...</td>\n",
       "      <td>b</td>\n",
       "    </tr>\n",
       "  </tbody>\n",
       "</table>\n",
       "</div>"
      ],
      "text/plain": [
       "                                                 MCQ  \\\n",
       "0      What is the primary goal of machine learning?   \n",
       "1  Which of the following is NOT a field where ma...   \n",
       "2  Who is credited with coining the term 'machine...   \n",
       "3  What type of learning is used by a program tha...   \n",
       "4  What is the main difference between machine le...   \n",
       "\n",
       "                                             Choices Correct  \n",
       "0  a : To create machines that can think like hum...       b  \n",
       "1  a : Natural Language Processing | b : Computer...       c  \n",
       "2  a : Alan Turing | b : Donald Hebb | c : Arthur...       c  \n",
       "3  a : Supervised learning | b : Unsupervised lea...       c  \n",
       "4  a : Machine learning programs are faster than ...       b  "
      ]
     },
     "execution_count": 255,
     "metadata": {},
     "output_type": "execute_result"
    }
   ],
   "source": [
    "df"
   ]
  },
  {
   "cell_type": "code",
   "execution_count": 261,
   "metadata": {},
   "outputs": [
    {
     "name": "stdout",
     "output_type": "stream",
     "text": [
      "MCQ            What is the primary goal of machine learning?\n",
      "Choices    a : To create machines that can think like hum...\n",
      "Correct                                                    b\n",
      "Name: 0, dtype: object\n"
     ]
    }
   ],
   "source": [
    "print(df.iloc[0])"
   ]
  },
  {
   "cell_type": "code",
   "execution_count": 267,
   "metadata": {},
   "outputs": [
    {
     "name": "stdout",
     "output_type": "stream",
     "text": [
      "What is the primary goal of machine learning? \n",
      " a : To create machines that can think like humans | b : To develop algorithms that learn from data and make predictions | c : To build robots that can perform physical tasks | d : To write computer programs that can solve logical puzzles \n",
      " b\n",
      "Which of the following is NOT a field where machine learning is applied? \n",
      " a : Natural Language Processing | b : Computer Vision | c : Astrophysics | d : Medicine \n",
      " c\n",
      "Who is credited with coining the term 'machine learning'? \n",
      " a : Alan Turing | b : Donald Hebb | c : Arthur Samuel | d : Tom M. Mitchell \n",
      " c\n",
      "What type of learning is used by a program that learns to play checkers by playing against itself? \n",
      " a : Supervised learning | b : Unsupervised learning | c : Reinforcement learning | d : Transduction learning \n",
      " c\n",
      "What is the main difference between machine learning and traditional programming? \n",
      " a : Machine learning programs are faster than traditional programs | b : Machine learning programs can learn from data, while traditional programs require explicit instructions | c : Machine learning programs are more complex to develop than traditional programs | d : Machine learning programs can only be used for specific tasks, while traditional programs are more versatile \n",
      " b\n"
     ]
    }
   ],
   "source": [
    "for index, row in df.iterrows():\n",
    "    print(row['MCQ'],\"\\n\",row['Choices'],\"\\n\", row[\"Correct\"])"
   ]
  },
  {
   "cell_type": "code",
   "execution_count": 271,
   "metadata": {},
   "outputs": [],
   "source": [
    "#can convert to csv\n",
    "df.to_csv(\"ml_mcqs.csv\")"
   ]
  },
  {
   "cell_type": "code",
   "execution_count": null,
   "metadata": {},
   "outputs": [],
   "source": []
  }
 ],
 "metadata": {
  "kernelspec": {
   "display_name": "myenv",
   "language": "python",
   "name": "python3"
  },
  "language_info": {
   "codemirror_mode": {
    "name": "ipython",
    "version": 3
   },
   "file_extension": ".py",
   "mimetype": "text/x-python",
   "name": "python",
   "nbconvert_exporter": "python",
   "pygments_lexer": "ipython3",
   "version": "3.12.7"
  }
 },
 "nbformat": 4,
 "nbformat_minor": 2
}
